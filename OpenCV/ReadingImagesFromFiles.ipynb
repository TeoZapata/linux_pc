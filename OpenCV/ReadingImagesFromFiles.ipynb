{
 "cells": [
  {
   "attachments": {},
   "cell_type": "markdown",
   "metadata": {},
   "source": [
    "# Reading images from Files"
   ]
  },
  {
   "cell_type": "code",
   "execution_count": null,
   "metadata": {},
   "outputs": [],
   "source": [
    "import argparse\n",
    "import cv2\n",
    "import matplotlib.pyplot as plt\n",
    "import numpy as np\n",
    "\n",
    "\n",
    "img = cv2.imread(\"../OpenCV/Lena.png\")\n",
    "\n",
    "print(\"imagen type \",img.dtype)\n",
    "print(\"imagen Dato \",img.shape)\n",
    "\n",
    "plt.imshow(img)"
   ]
  },
  {
   "attachments": {},
   "cell_type": "markdown",
   "metadata": {},
   "source": [
    "# Rezise Function"
   ]
  },
  {
   "cell_type": "code",
   "execution_count": null,
   "metadata": {},
   "outputs": [],
   "source": [
    "\n",
    "\n",
    "width, height = 128, 256 \n",
    "resized = cv2.resize(img, (width,height))\n",
    "\n",
    "print(\"resized to 128x256 image shape: \",resized.shape)\n",
    "\n",
    "plt.imshow(resized)\n"
   ]
  },
  {
   "attachments": {},
   "cell_type": "markdown",
   "metadata": {},
   "source": [
    "## Resize by setting multipliers of the image's original width and height"
   ]
  },
  {
   "cell_type": "code",
   "execution_count": null,
   "metadata": {},
   "outputs": [],
   "source": [
    "w_mult, h_mult = 0.25, 0.5\n",
    "resized_img = cv2.resize(img, (0,0), resized , w_mult, h_mult)\n",
    "\n",
    "print(\"resized image shape \",resized_img.shape)\n",
    "plt.imshow(resized_img)\n"
   ]
  },
  {
   "attachments": {},
   "cell_type": "markdown",
   "metadata": {},
   "source": [
    "## Resize using nearest-neighbor interpolation instead of the default one"
   ]
  },
  {
   "cell_type": "code",
   "execution_count": null,
   "metadata": {},
   "outputs": [],
   "source": [
    "w_mult, h_mult = 2,4\n",
    "resize_img = cv2.resize(img, (0,0), resized, w_mult,h_mult, cv2.INTER_NEAREST)\n",
    "\n",
    "print(\"resize shape : \",resize_img.shape)\n",
    "plt.imshow(resize_img)"
   ]
  },
  {
   "attachments": {},
   "cell_type": "markdown",
   "metadata": {},
   "source": [
    "# Reflect the image along its horizontal x-axis\n",
    "## only pass 0 as last argument of cv2.flip"
   ]
  },
  {
   "cell_type": "code",
   "execution_count": null,
   "metadata": {},
   "outputs": [],
   "source": [
    "img_flip_along_X = cv2.flip(img,0)\n",
    "\n",
    "plt.imshow(img_flip_along_X)"
   ]
  },
  {
   "attachments": {},
   "cell_type": "markdown",
   "metadata": {},
   "source": [
    "## also we can reflec to y-axis"
   ]
  },
  {
   "cell_type": "code",
   "execution_count": null,
   "metadata": {},
   "outputs": [],
   "source": [
    "img_flip_along_y = cv2.flip(img,1)\n",
    "plt.imshow(img_flip_along_y)"
   ]
  },
  {
   "attachments": {},
   "cell_type": "markdown",
   "metadata": {},
   "source": [
    "## we can flip both x and y simultaneously by passing as -1 argument in function"
   ]
  },
  {
   "cell_type": "code",
   "execution_count": null,
   "metadata": {},
   "outputs": [],
   "source": [
    "img_flip_xy = cv2.flip(img,-1)\n",
    "\n",
    "plt.imshow(img_flip_xy)"
   ]
  },
  {
   "attachments": {},
   "cell_type": "markdown",
   "metadata": {},
   "source": [
    "## saving files using lossy and lossless compression"
   ]
  },
  {
   "attachments": {},
   "cell_type": "markdown",
   "metadata": {},
   "source": [
    "### saving PNG format"
   ]
  },
  {
   "cell_type": "code",
   "execution_count": null,
   "metadata": {},
   "outputs": [],
   "source": [
    "cv2.imwrite(\"../OpenCV/newfile.png\",img_flip_xy,[cv2.IMWRITE_PNG_COMPRESSION,0])"
   ]
  },
  {
   "attachments": {},
   "cell_type": "markdown",
   "metadata": {},
   "source": [
    "### Saving JPEG format"
   ]
  },
  {
   "cell_type": "code",
   "execution_count": null,
   "metadata": {},
   "outputs": [],
   "source": [
    "cv2.imwrite(\"../OpenCV/LenaJPEG.jpeg\",img,[cv2.IMWRITE_JPEG2000_COMPRESSION_X1000,0])"
   ]
  },
  {
   "attachments": {},
   "cell_type": "markdown",
   "metadata": {},
   "source": [
    "## Showing images in an OpenCV Windows"
   ]
  },
  {
   "cell_type": "code",
   "execution_count": null,
   "metadata": {},
   "outputs": [],
   "source": [
    "image = cv2.imread(\"../OpenCV/Lena.png\")\n",
    "image_size = image.shape[0:2]\n",
    "\n",
    "#cv2.imshow(\"Original Image\", image)\n",
    "#cv2.waitKey(2000)"
   ]
  },
  {
   "attachments": {},
   "cell_type": "markdown",
   "metadata": {},
   "source": [
    "## working with UI elements, such as buttons and trackbars, in an OpenCV Window"
   ]
  },
  {
   "attachments": {},
   "cell_type": "markdown",
   "metadata": {},
   "source": [
    "1. first creat an OpenCV windows named window\n",
    "2. create a variable that will contain the fill color value for the\n",
    "the variable is a numpy array with three values that will be interpreted as blue, green, and red color components fro the [0,255] range\n",
    "3. add an auxiliary function to call from each trackbar_callback function. the function takes the color component index and new value as setting\n",
    "4. add three tackbars into window and bind each trackbar callback to a specidic color component using THE PYTHON LAMBDA FUNCTION\n",
    "5. In a loop, show the image in a windows with three trackbars and process keyboard input  as well"
   ]
  },
  {
   "cell_type": "code",
   "execution_count": null,
   "metadata": {},
   "outputs": [],
   "source": [
    "\"\"\"#1\n",
    "cv2.namedWindow(\"Window\")\n",
    "#2\n",
    "fill_value = np.array([255,255,255],np.uint8)\n",
    "#3\n",
    "def trackbar_callback(idx, value):\n",
    "    fill_value[idx]=value\n",
    "#4\n",
    "cv2.createTrackbar(\"R\",\"Window\",255,255,lambda v : trackbar_callback(2,v))\n",
    "cv2.createTrackbar(\"G\",\"Window\",255,255,lambda v : trackbar_callback(1,v))\n",
    "cv2.createTrackbar(\"B\",\"Window\",255,255,lambda v : trackbar_callback(0,v))\n",
    "#5\n",
    "while True:\n",
    "    image = np.full((500,500,3), fill_value)\n",
    "    cv2.imshow(\"Window\", image)\n",
    "    key = cv2.waitKey(3)\n",
    "    if key== 27:\n",
    "        break\n",
    "\n",
    "cv2.destroyAllWindows()\n",
    "\"\"\""
   ]
  },
  {
   "attachments": {},
   "cell_type": "markdown",
   "metadata": {},
   "source": [
    "## drawing 2D primitives- markers, lines, ellipses, rectangles, and text"
   ]
  },
  {
   "attachments": {},
   "cell_type": "markdown",
   "metadata": {},
   "source": [
    "1. Open an image and get its width and height also, define a simple function that return a random point inside our image:"
   ]
  },
  {
   "cell_type": "code",
   "execution_count": null,
   "metadata": {},
   "outputs": [],
   "source": [
    "import cv2, random\n",
    "\n",
    "image = cv2.imread(\"../OpenCV/176870.jpg\")\n",
    "\n",
    "width, height = image.shape[1],image.shape[0]\n",
    "\n",
    "def rand_pt(mult=1):\n",
    "    return (random.randrange(int(width*mult)),\n",
    "    random.randrange(int(height*mult)))\n",
    "\n",
    "rand_pt()"
   ]
  },
  {
   "attachments": {},
   "cell_type": "markdown",
   "metadata": {},
   "source": [
    "2. let's draw something¡ Let's go for circles"
   ]
  },
  {
   "cell_type": "code",
   "execution_count": null,
   "metadata": {},
   "outputs": [],
   "source": [
    "cv2.circle(image, rand_pt(),40,(255,0,0))\n",
    "cv2.circle(image, rand_pt(),5,(255,0,0),cv2.FILLED)\n",
    "cv2.circle(image, rand_pt(),40,(255,85,85),2)\n",
    "cv2.circle(image, rand_pt(),40,(255,170,170),2,cv2.LINE_AA)\n",
    "\n",
    "\n"
   ]
  },
  {
   "attachments": {},
   "cell_type": "markdown",
   "metadata": {},
   "source": [
    "3. now let's try to draw lines"
   ]
  },
  {
   "cell_type": "code",
   "execution_count": null,
   "metadata": {},
   "outputs": [],
   "source": [
    "cv2.line(image, rand_pt(), rand_pt(), (0,255,0))\n",
    "cv2.line(image, rand_pt(), rand_pt(), (85,255,85),)\n",
    "cv2.line(image, rand_pt(), rand_pt(), (170,255,170),3,cv2.LINE_AA)"
   ]
  },
  {
   "attachments": {},
   "cell_type": "markdown",
   "metadata": {},
   "source": [
    "4. if you want to draw an arrow, use the arrowesLine() fuction"
   ]
  },
  {
   "cell_type": "code",
   "execution_count": null,
   "metadata": {},
   "outputs": [],
   "source": [
    "cv2.arrowedLine(image,rand_pt(), rand_pt(), (0,0,255), 3, cv2.LINE_AA)\n"
   ]
  },
  {
   "attachments": {},
   "cell_type": "markdown",
   "metadata": {},
   "source": [
    "5. to draw rectangles, OpenCV has the rectangle() function"
   ]
  },
  {
   "cell_type": "code",
   "execution_count": null,
   "metadata": {},
   "outputs": [],
   "source": [
    "cv2.rectangle(image, rand_pt(), rand_pt(), (255,0,0), 3, cv2.LINE_AA)\n"
   ]
  },
  {
   "attachments": {},
   "cell_type": "markdown",
   "metadata": {},
   "source": [
    "6. alse, OpenCV includes, a fucntion to draw ellipses, Let's draw them"
   ]
  },
  {
   "cell_type": "code",
   "execution_count": null,
   "metadata": {},
   "outputs": [],
   "source": [
    "cv2.ellipse(image,rand_pt(), rand_pt(0.3), random.randrange(360),0,360,(255,255,25),3)"
   ]
  },
  {
   "attachments": {},
   "cell_type": "markdown",
   "metadata": {},
   "source": [
    "7. our final drawing related function is for placing text on the image"
   ]
  },
  {
   "cell_type": "code",
   "execution_count": null,
   "metadata": {},
   "outputs": [],
   "source": [
    "cv2.putText(image, \"my Nigga\",rand_pt(), cv2.FONT_HERSHEY_SIMPLEX, 1, (0,0,45), 3)\n",
    "\n",
    "plt.imshow(image)"
   ]
  },
  {
   "cell_type": "code",
   "execution_count": null,
   "metadata": {},
   "outputs": [],
   "source": [
    "cv2.imwrite(\"../OpenCV/pillando.png\", image,[cv2.IMWRITE_PNG_COMPRESSION,0])"
   ]
  },
  {
   "attachments": {},
   "cell_type": "markdown",
   "metadata": {},
   "source": [
    "## Handling user input from a keyboard"
   ]
  },
  {
   "attachments": {},
   "cell_type": "markdown",
   "metadata": {},
   "source": [
    "cv2 has simple and clear way to hanlde input from a keyboard. this functionality is organically built into the cv2.waitkay function."
   ]
  },
  {
   "attachments": {},
   "cell_type": "markdown",
   "metadata": {},
   "source": [
    "1. as done previously, open a image and get its width and height, also, make a copy of the original image and define a simple function that return a random poitn with coordinates inside our image"
   ]
  },
  {
   "cell_type": "code",
   "execution_count": null,
   "metadata": {},
   "outputs": [],
   "source": [
    "import cv2\n",
    "\n",
    "new_image = cv2.imread(\"../OpenCV/Lena.png\")\n",
    "w ,h = new_image.shape[1], new_image.shape[0]\n",
    "\n",
    "copy_image = np.copy(new_image)\n",
    "\n",
    "def random_point():\n",
    "    return (\n",
    "        random.randrange(w),\n",
    "        random.randrange(h)\n",
    "    )\n",
    "\n",
    "random_point()"
   ]
  },
  {
   "attachments": {},
   "cell_type": "markdown",
   "metadata": {},
   "source": [
    "2. now when the user presses  P, L, R, E or T draw a figure alse when presses C clear the image."
   ]
  },
  {
   "cell_type": "code",
   "execution_count": null,
   "metadata": {},
   "outputs": [],
   "source": [
    "import cv2\n",
    "\n",
    "flag = False \n",
    "\n",
    "while not flag:\n",
    "    cv2.imshow(\"Result\",copy_image)\n",
    "    key = cv2.waitKey(0)\n",
    "    if key == ord(\"p\"):\n",
    "        for pt in [ random_point() for _ in range(10)]:\n",
    "            cv2.circle(copy_image, pt, 3, (255, 0, 0), 3)\n",
    "    elif key == ord(\"l\"):\n",
    "        cv2.line(copy_image, random_point(), random_point(), (0,0,255), 3)\n",
    "    elif key == ord(\"e\"):\n",
    "        cv2.ellipse(copy_image, random_point(), random_point(), random.randrange(360),0,360,(255,255,0), 3)\n",
    "    elif key == ord(\"r\"):\n",
    "        cv2.rectangle(copy_image, random_point(), random_point(), (0,23,233),3)\n",
    "    elif  key == ord(\"c\"):\n",
    "        copy_image = np.copy(new_image)\n",
    "    else:\n",
    "        flag = True\n",
    "    \n",
    "cv2.destroyAllWindows()\n"
   ]
  },
  {
   "attachments": {},
   "cell_type": "markdown",
   "metadata": {},
   "source": [
    "## Making your app interactive through handling user input from a mouse"
   ]
  },
  {
   "cell_type": "markdown",
   "metadata": {},
   "source": [
    "imagen2 = cv2.imread(\"../OpenCV/Lena.png\")\n",
    "image_copy = np.copy(imagen2)\n"
   ]
  },
  {
   "attachments": {},
   "cell_type": "markdown",
   "metadata": {},
   "source": [
    "now, define some variable to store the mouse state"
   ]
  },
  {
   "cell_type": "markdown",
   "metadata": {},
   "source": [
    "mouse_pressed = False\n",
    "s_x = s_y = e_x = e_y = -1"
   ]
  },
  {
   "attachments": {},
   "cell_type": "markdown",
   "metadata": {},
   "source": [
    "let's implement a handler for mouse events.This should be a function that takes four arguments, as follow"
   ]
  },
  {
   "cell_type": "markdown",
   "metadata": {},
   "source": [
    "def mouse_callback(event, x, y, flags, param):\n",
    "    global image_copy, s_x , s_y , e_x , e_y , mouse_pressed\n",
    "\n",
    "    if event == cv2.EVENT_LBUTTONDOWN:\n",
    "        mouse_pressed=True\n",
    "        s_x , s_y = x, y\n",
    "        image_copy = np.copy(imagen2)\n",
    "    elif event == cv2.EVENT_MOUSEMOVE:\n",
    "        if mouse_pressed:\n",
    "            image_copy = np.copy(imagen2)\n",
    "            cv2.rectangle(image_copy, (s_x, s_y), (x,y),(255,89,0),3)\n",
    "    elif event == cv2.EVENT_LBUTTONUP:\n",
    "        mouse_pressed = False\n",
    "        e_x, e_y = x, y"
   ]
  },
  {
   "attachments": {},
   "cell_type": "markdown",
   "metadata": {},
   "source": [
    "let's create the window instance that will be capturing mouse events and translating them into the handler function we defined earlier"
   ]
  },
  {
   "cell_type": "markdown",
   "metadata": {},
   "source": [
    "\n",
    "        \n",
    "cv2.namedWindow(\"Imagen\")\n",
    "cv2.setMouseCallback(\"Imagen\", mouse_callback)\n",
    "\n"
   ]
  },
  {
   "attachments": {},
   "cell_type": "markdown",
   "metadata": {},
   "source": [
    "now, let's implement the remaining part of ouw application, which should be reacting to buttons pushes and cropping the original image "
   ]
  },
  {
   "cell_type": "markdown",
   "metadata": {},
   "source": [
    "while True:\n",
    "    cv2.imshow(\"image\", image_copy)\n",
    "    k = cv2.waitKey(0)\n",
    "\n",
    "    if k == ord(\"c\"):\n",
    "        if s_y > e_y :\n",
    "            s_y , e_y = e_y, s_y\n",
    "        if s_x > e_x :\n",
    "            s_x, e_x = e_x, s_x\n",
    "        if (e_y - s_y > 1) and (e_x - s_x > 0) :\n",
    "            image2 = image2[s_y : e_y, s_x:e_x]\n",
    "            image_copy = np.copy(image2)\n",
    "    elif k == ord(\"q\"):\n",
    "        break\n",
    "cv2.destroyAllWindows()\n"
   ]
  },
  {
   "cell_type": "code",
   "execution_count": 2,
   "metadata": {},
   "outputs": [],
   "source": [
    "import cv2\n",
    "import numpy as np\n",
    "\n",
    "imagen2 = cv2.imread(\"../OpenCV/Lena.png\")\n",
    "image_copy = np.copy(imagen2)\n",
    "\n",
    "mouse_pressed = False\n",
    "s_x = s_y = e_x = e_y = -1\n",
    "\n",
    "def mouse_callback(event, x, y, flags, param):\n",
    "    global image_copy, s_x , s_y , e_x , e_y , mouse_pressed\n",
    "\n",
    "    if event == cv2.EVENT_LBUTTONDOWN:\n",
    "        mouse_pressed=True\n",
    "        s_x , s_y = x, y\n",
    "        image_copy = np.copy(imagen2)\n",
    "    elif event == cv2.EVENT_MOUSEMOVE:\n",
    "        if mouse_pressed:\n",
    "            image_copy = np.copy(imagen2)\n",
    "            cv2.rectangle(image_copy, (s_x, s_y), (x,y),(0,255,0),3)\n",
    "    elif event == cv2.EVENT_LBUTTONUP:\n",
    "        mouse_pressed = False\n",
    "        e_x, e_y = x, y\n",
    "        \n",
    "cv2.namedWindow(\"imagen2\")\n",
    "cv2.setMouseCallback(\"imagen2\", mouse_callback)\n",
    "\n",
    "while True:\n",
    "    cv2.imshow(\"imagen2\", image_copy)\n",
    "    k = cv2.waitKey(1)\n",
    "\n",
    "    if k == ord(\"c\"):\n",
    "        if s_y > e_y :\n",
    "            s_y , e_y = e_y, s_y\n",
    "        if s_x > e_x :\n",
    "            s_x, e_x = e_x, s_x\n",
    "        if e_y - s_y > 1 and e_x - s_x > 0 :\n",
    "            imagen2 = imagen2[s_y : e_y, s_x:e_x]\n",
    "            image_copy = np.copy(imagen2)\n",
    "    elif k == ord(\"q\"):\n",
    "        break\n",
    "cv2.destroyAllWindows()"
   ]
  }
 ],
 "metadata": {
  "kernelspec": {
   "display_name": "Python 3",
   "language": "python",
   "name": "python3"
  },
  "language_info": {
   "codemirror_mode": {
    "name": "ipython",
    "version": 3
   },
   "file_extension": ".py",
   "mimetype": "text/x-python",
   "name": "python",
   "nbconvert_exporter": "python",
   "pygments_lexer": "ipython3",
   "version": "3.10.6"
  },
  "orig_nbformat": 4,
  "vscode": {
   "interpreter": {
    "hash": "916dbcbb3f70747c44a77c7bcd40155683ae19c65e1c03b4aa3499c5328201f1"
   }
  }
 },
 "nbformat": 4,
 "nbformat_minor": 2
}
